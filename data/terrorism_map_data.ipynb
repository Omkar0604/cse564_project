{
 "cells": [
  {
   "cell_type": "code",
   "execution_count": 1,
   "metadata": {},
   "outputs": [],
   "source": [
    "import matplotlib.pyplot as plt\n",
    "import pandas as pd\n",
    "import numpy as np"
   ]
  },
  {
   "cell_type": "code",
   "execution_count": 2,
   "metadata": {},
   "outputs": [],
   "source": [
    "# df = pd.read_csv('globalterrorismdb_0718dist.csv', engine='pyarrow')\n",
    "df = pd.read_csv('terrorism_raw_data.csv', engine='pyarrow')"
   ]
  },
  {
   "cell_type": "code",
   "execution_count": 3,
   "metadata": {},
   "outputs": [
    {
     "data": {
      "text/plain": [
       "Index(['', 'iyear', 'imonth', 'iday', 'extended', 'country_txt', 'region_txt',\n",
       "       'provstate', 'city', 'attacktype1_txt', 'targtype1_txt',\n",
       "       'targsubtype1_txt', 'weaptype1_txt', 'gname', 'nkill', 'nwound'],\n",
       "      dtype='object')"
      ]
     },
     "execution_count": 3,
     "metadata": {},
     "output_type": "execute_result"
    }
   ],
   "source": [
    "df.columns"
   ]
  },
  {
   "cell_type": "code",
   "execution_count": 4,
   "metadata": {},
   "outputs": [
    {
     "name": "stdout",
     "output_type": "stream",
     "text": [
      "['Assassination' 'Hostage Taking (Kidnapping)' 'Bombing/Explosion'\n",
      " 'Facility/Infrastructure Attack' 'Armed Assault' 'Hijacking' 'Unknown'\n",
      " 'Unarmed Assault' 'Hostage Taking (Barricade Incident)']\n",
      "['Private Citizens & Property' 'Government (Diplomatic)'\n",
      " 'Journalists & Media' 'Police' 'Utilities' 'Military'\n",
      " 'Government (General)' 'Airports & Aircraft' 'Business'\n",
      " 'Educational Institution' 'Violent Political Party'\n",
      " 'Religious Figures/Institutions' 'Unknown' 'Transportation' 'Tourists'\n",
      " 'NGO' 'Telecommunication' 'Food or Water Supply'\n",
      " 'Terrorists/Non-State Militia' 'Other' 'Maritime' 'Abortion Related']\n",
      "['Unknown' 'Explosives' 'Incendiary' 'Firearms' 'Chemical' 'Melee'\n",
      " 'Sabotage Equipment'\n",
      " 'Vehicle (not to include vehicle-borne explosives, i.e., car or truck bombs)'\n",
      " 'Fake Weapons' 'Radiological' 'Other' 'Biological']\n"
     ]
    }
   ],
   "source": [
    "print(df['attacktype1_txt'].unique())\n",
    "print(df['targtype1_txt'].unique())\n",
    "print(df['weaptype1_txt'].unique())"
   ]
  },
  {
   "cell_type": "code",
   "execution_count": 5,
   "metadata": {},
   "outputs": [],
   "source": [
    "# df['nkilled'] = np.random.randint(0, 10, df.shape[0])\n",
    "# df['nwounded'] = np.random.randint(1, 20, df.shape[0])"
   ]
  },
  {
   "cell_type": "code",
   "execution_count": 6,
   "metadata": {},
   "outputs": [],
   "source": [
    "# df_clean = df.drop(['nkill', 'nwound', 'provstate', 'imonth', 'iday'], axis=1)"
   ]
  },
  {
   "cell_type": "code",
   "execution_count": 7,
   "metadata": {},
   "outputs": [],
   "source": [
    "# df_clean['start_year'] = df['iyear'] - (df['iyear'] % 10)"
   ]
  },
  {
   "cell_type": "code",
   "execution_count": 70,
   "metadata": {},
   "outputs": [],
   "source": [
    "# df['country_txt'].unique()"
   ]
  },
  {
   "cell_type": "code",
   "execution_count": 8,
   "metadata": {},
   "outputs": [],
   "source": [
    "# df_clean['country_txt'] = df_clean['country_txt'].replace('West Germany (FRG)', 'Germany')\n",
    "# df_clean['country_txt'] = df_clean['country_txt'].replace('East Germany (GDR)', 'Germany')"
   ]
  },
  {
   "cell_type": "code",
   "execution_count": 13,
   "metadata": {},
   "outputs": [],
   "source": [
    "# df_clean.to_csv('terrorism_data_clean.csv', index=False)"
   ]
  },
  {
   "cell_type": "code",
   "execution_count": 111,
   "metadata": {},
   "outputs": [],
   "source": [
    "df_1970 = df_clean[df_clean['start_year'] == 1970]\n",
    "df_1970_agg = df_1970.groupby(['country_txt']).count()\n",
    "df_1970_agg = df_1970_agg['']\n",
    "df_1970_agg = pd.DataFrame(df_1970_agg).reset_index()\n",
    "# df_1970_agg.to_csv('terrorism_1970.csv', header=['id', 'frequency'])"
   ]
  },
  {
   "cell_type": "code",
   "execution_count": 113,
   "metadata": {},
   "outputs": [],
   "source": [
    "df_1980 = df_clean[df_clean['start_year'] == 1980]\n",
    "df_1980_agg = df_1980.groupby(['country_txt']).count()\n",
    "df_1980_agg = df_1980_agg['']\n",
    "df_1980_agg = pd.DataFrame(df_1980_agg).reset_index()\n",
    "# df_1980_agg.to_csv('terrorism_1980.csv', header=['id', 'frequency'])"
   ]
  },
  {
   "cell_type": "code",
   "execution_count": 114,
   "metadata": {},
   "outputs": [],
   "source": [
    "df_1990 = df_clean[df_clean['start_year'] == 1990]\n",
    "df_1990_agg = df_1990.groupby(['country_txt']).count()\n",
    "df_1990_agg = df_1990_agg['']\n",
    "df_1990_agg = pd.DataFrame(df_1990_agg).reset_index()\n",
    "# df_1990_agg.to_csv('terrorism_1990.csv', header=['id', 'frequency'])"
   ]
  },
  {
   "cell_type": "code",
   "execution_count": 115,
   "metadata": {},
   "outputs": [],
   "source": [
    "df_2000 = df_clean[df_clean['start_year'] == 2000]\n",
    "df_2000_agg = df_2000.groupby(['country_txt']).count()\n",
    "df_2000_agg = df_2000_agg['']\n",
    "df_2000_agg = pd.DataFrame(df_2000_agg).reset_index()\n",
    "# df_2000_agg.to_csv('terrorism_2000.csv', header=['id', 'frequency'])"
   ]
  },
  {
   "cell_type": "code",
   "execution_count": 116,
   "metadata": {},
   "outputs": [],
   "source": [
    "df_2010 = df_clean[df_clean['start_year'] == 2010]\n",
    "df_2010_agg = df_2010.groupby(['country_txt']).count()\n",
    "df_2010_agg = df_2010_agg['']\n",
    "df_2010_agg = pd.DataFrame(df_2010_agg).reset_index()\n",
    "# df_2010_agg.to_csv('terrorism_2010.csv', header=['id', 'frequency'])"
   ]
  },
  {
   "cell_type": "code",
   "execution_count": null,
   "metadata": {},
   "outputs": [],
   "source": []
  }
 ],
 "metadata": {
  "kernelspec": {
   "display_name": "Python 3.9.12 ('base')",
   "language": "python",
   "name": "python3"
  },
  "language_info": {
   "codemirror_mode": {
    "name": "ipython",
    "version": 3
   },
   "file_extension": ".py",
   "mimetype": "text/x-python",
   "name": "python",
   "nbconvert_exporter": "python",
   "pygments_lexer": "ipython3",
   "version": "3.9.12"
  },
  "orig_nbformat": 4,
  "vscode": {
   "interpreter": {
    "hash": "d6db4a2ebda5245f0861ffa34c3666369e2b8cc5bb5b28f9e9fba36bcd3d3db7"
   }
  }
 },
 "nbformat": 4,
 "nbformat_minor": 2
}
