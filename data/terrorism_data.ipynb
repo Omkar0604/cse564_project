{
 "cells": [
  {
   "cell_type": "code",
   "execution_count": 44,
   "metadata": {},
   "outputs": [],
   "source": [
    "import matplotlib.pyplot as plt\n",
    "import pandas as pd\n",
    "import numpy as np\n",
    "import seaborn as sns"
   ]
  },
  {
   "cell_type": "code",
   "execution_count": 45,
   "metadata": {},
   "outputs": [],
   "source": [
    "# df = pd.read_csv('globalterrorismdb_0718dist.csv', engine='pyarrow')\n",
    "df = pd.read_csv('terrorism_raw_data.csv', engine='pyarrow')"
   ]
  },
  {
   "cell_type": "code",
   "execution_count": 46,
   "metadata": {},
   "outputs": [
    {
     "data": {
      "text/plain": [
       "Index(['', 'iyear', 'imonth', 'iday', 'extended', 'country_txt', 'region_txt',\n",
       "       'provstate', 'city', 'attacktype1_txt', 'targtype1_txt',\n",
       "       'targsubtype1_txt', 'weaptype1_txt', 'gname', 'nkill', 'nwound'],\n",
       "      dtype='object')"
      ]
     },
     "execution_count": 46,
     "metadata": {},
     "output_type": "execute_result"
    }
   ],
   "source": [
    "df.columns"
   ]
  },
  {
   "cell_type": "code",
   "execution_count": 47,
   "metadata": {},
   "outputs": [
    {
     "name": "stdout",
     "output_type": "stream",
     "text": [
      "['Assassination' 'Hostage Taking (Kidnapping)' 'Bombing/Explosion'\n",
      " 'Facility/Infrastructure Attack' 'Armed Assault' 'Hijacking' 'Unknown'\n",
      " 'Unarmed Assault' 'Hostage Taking (Barricade Incident)']\n",
      "['Private Citizens & Property' 'Government (Diplomatic)'\n",
      " 'Journalists & Media' 'Police' 'Utilities' 'Military'\n",
      " 'Government (General)' 'Airports & Aircraft' 'Business'\n",
      " 'Educational Institution' 'Violent Political Party'\n",
      " 'Religious Figures/Institutions' 'Unknown' 'Transportation' 'Tourists'\n",
      " 'NGO' 'Telecommunication' 'Food or Water Supply'\n",
      " 'Terrorists/Non-State Militia' 'Other' 'Maritime' 'Abortion Related']\n",
      "['Unknown' 'Explosives' 'Incendiary' 'Firearms' 'Chemical' 'Melee'\n",
      " 'Sabotage Equipment'\n",
      " 'Vehicle (not to include vehicle-borne explosives, i.e., car or truck bombs)'\n",
      " 'Fake Weapons' 'Radiological' 'Other' 'Biological']\n"
     ]
    }
   ],
   "source": [
    "print(df['attacktype1_txt'].unique())\n",
    "print(df['targtype1_txt'].unique())\n",
    "print(df['weaptype1_txt'].unique())"
   ]
  },
  {
   "cell_type": "code",
   "execution_count": 50,
   "metadata": {},
   "outputs": [],
   "source": [
    "df['nkilled'] = np.random.randint(0, 10, df.shape[0])\n",
    "df['nwounded'] = np.random.randint(1, 20, df.shape[0])"
   ]
  },
  {
   "cell_type": "code",
   "execution_count": 51,
   "metadata": {},
   "outputs": [],
   "source": [
    "df_clean = df.drop(['nkill', 'nwound', 'provstate', 'imonth', 'iday'], axis=1)"
   ]
  },
  {
   "cell_type": "code",
   "execution_count": 55,
   "metadata": {},
   "outputs": [],
   "source": [
    "df_clean['start_year'] = df['iyear'] - (df['iyear'] % 10)"
   ]
  },
  {
   "cell_type": "code",
   "execution_count": 64,
   "metadata": {},
   "outputs": [],
   "source": [
    "df_clean.to_csv('terrorism_data_clean.csv')"
   ]
  },
  {
   "cell_type": "code",
   "execution_count": null,
   "metadata": {},
   "outputs": [],
   "source": []
  }
 ],
 "metadata": {
  "kernelspec": {
   "display_name": "Python 3.9.12 ('base')",
   "language": "python",
   "name": "python3"
  },
  "language_info": {
   "codemirror_mode": {
    "name": "ipython",
    "version": 3
   },
   "file_extension": ".py",
   "mimetype": "text/x-python",
   "name": "python",
   "nbconvert_exporter": "python",
   "pygments_lexer": "ipython3",
   "version": "3.9.12"
  },
  "orig_nbformat": 4,
  "vscode": {
   "interpreter": {
    "hash": "d6db4a2ebda5245f0861ffa34c3666369e2b8cc5bb5b28f9e9fba36bcd3d3db7"
   }
  }
 },
 "nbformat": 4,
 "nbformat_minor": 2
}
